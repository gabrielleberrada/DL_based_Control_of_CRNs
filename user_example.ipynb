{
 "cells": [
  {
   "cell_type": "markdown",
   "metadata": {},
   "source": [
    "# User example\n",
    "\n",
    "This notebook is an example of how to use the codes to compute the expected value of marginal distributions."
   ]
  },
  {
   "cell_type": "code",
   "execution_count": null,
   "metadata": {},
   "outputs": [],
   "source": [
    "import numpy as np\n",
    "import torch\n",
    "import matplotlib.pyplot as plt\n",
    "from scipy.stats import poisson\n",
    "import neuralnetwork\n",
    "import convert_csv\n",
    "import generate_data\n",
    "import simulation\n",
    "import grads"
   ]
  },
  {
   "cell_type": "markdown",
   "metadata": {},
   "source": [
    "## SSA simulations of a CRN\n",
    "\n",
    "Chosen Chemical Reaction Network: $ø \\rightarrow S_1$. The reaction propensity is given by $\\lambda(x) = cx$ where c is a constant.\n",
    "\n",
    "We want to generate train, validation and test data. Because this step takes time, we save the data in csv files. "
   ]
  },
  {
   "cell_type": "code",
   "execution_count": null,
   "metadata": {},
   "outputs": [],
   "source": [
    "# file where propensity functions are defined\n",
    "# needs to be imported because of the multiprocessing module\n",
    "import propensities"
   ]
  },
  {
   "cell_type": "code",
   "execution_count": null,
   "metadata": {},
   "outputs": [],
   "source": [
    "CRN_NAME = 'ø_S1'\n",
    "datasets = {'train': 4*900, 'valid': 4*80, 'test': 4*44}\n",
    "DATA_LENGTH = sum(datasets.values())\n",
    "T_SAMPLES = np.array([1, 5, 10, 15])\n",
    "N_TRAJ = 10**4"
   ]
  },
  {
   "cell_type": "code",
   "execution_count": null,
   "metadata": {},
   "outputs": [],
   "source": [
    "# because we use multiprocessing\n",
    "if __name__ == '__main__':\n",
    "\n",
    "    stoich_mat = np.array([1]).reshape(1,1)\n",
    "    crn = simulation.CRN(stoichiometric_mat=stoich_mat, propensities=np.array([propensities.lambda1]), n_params=1)\n",
    "    dataset = generate_data.CRN_Dataset(crn=crn, sampling_times=T_SAMPLES)\n",
    "    X, y = dataset.generate_data(data_length=DATA_LENGTH, n_trajectories=N_TRAJ)\n",
    "\n",
    "    # writing CSV files\n",
    "    somme = 0\n",
    "    max_value = 0\n",
    "    for key, value in datasets.items():\n",
    "        convert_csv.array_to_csv(X[somme:somme+value,:], f'X_{CRN_NAME}_{key}')\n",
    "        convert_csv.array_to_csv(y[somme:somme+value,:], f'y_{CRN_NAME}_{key}')\n",
    "        somme += value"
   ]
  },
  {
   "cell_type": "markdown",
   "metadata": {},
   "source": [
    "## Creating a Neural Network"
   ]
  },
  {
   "cell_type": "code",
   "execution_count": null,
   "metadata": {},
   "outputs": [],
   "source": [
    "N_COMPS = 5\n",
    "NUM_PARAMS = 1"
   ]
  },
  {
   "cell_type": "code",
   "execution_count": null,
   "metadata": {},
   "outputs": [],
   "source": [
    "model = neuralnetwork.NeuralNetwork(n_comps=N_COMPS, n_params=NUM_PARAMS)"
   ]
  },
  {
   "cell_type": "markdown",
   "metadata": {},
   "source": [
    "## Training Neural Network"
   ]
  },
  {
   "cell_type": "code",
   "execution_count": null,
   "metadata": {},
   "outputs": [],
   "source": [
    "# loading data\n",
    "X_train = convert_csv.csv_to_tensor(f'birth_data/X_{CRN_NAME}_train.csv')\n",
    "y_train = convert_csv.csv_to_tensor(f'birth_data/y_{CRN_NAME}_train.csv')\n",
    "X_valid = convert_csv.csv_to_tensor(f'birth_data/X_{CRN_NAME}_valid.csv')\n",
    "y_valid = convert_csv.csv_to_tensor(f'birth_data/y_{CRN_NAME}_valid.csv')\n",
    "X_test = convert_csv.csv_to_tensor(f'birth_data/X_{CRN_NAME}_test.csv')\n",
    "y_test = convert_csv.csv_to_tensor(f'birth_data/y_{CRN_NAME}_test.csv')\n",
    "\n",
    "train_data = [X_train, y_train]\n",
    "valid_data = [X_valid, y_valid]"
   ]
  },
  {
   "cell_type": "code",
   "execution_count": null,
   "metadata": {},
   "outputs": [],
   "source": [
    "CRN_NAME = 'ø_S1'\n",
    "\n",
    "# loading data\n",
    "X_train = convert_csv.csv_to_tensor(f'birth_data/X_{CRN_NAME}_train.csv')\n",
    "y_train = convert_csv.csv_to_tensor(f'birth_data/y_{CRN_NAME}_train.csv')\n",
    "X_valid = convert_csv.csv_to_tensor(f'birth_data/X_{CRN_NAME}_valid.csv')\n",
    "y_valid = convert_csv.csv_to_tensor(f'birth_data/y_{CRN_NAME}_valid.csv')\n",
    "X_test = convert_csv.csv_to_tensor(f'birth_data/X_{CRN_NAME}_test.csv')\n",
    "y_test = convert_csv.csv_to_tensor(f'birth_data/y_{CRN_NAME}_test.csv')\n",
    "\n",
    "train_data = [X_train, y_train[:, 1:]]\n",
    "valid_data = [X_valid, y_valid[:, 1:]]"
   ]
  },
  {
   "cell_type": "code",
   "execution_count": null,
   "metadata": {},
   "outputs": [],
   "source": [
    "neuralnetwork.train_NN(model, train_data, valid_data, loss=neuralnetwork.loss_kldivergence, max_rounds=600, lr=0.01, batchsize=64)"
   ]
  },
  {
   "cell_type": "markdown",
   "metadata": {},
   "source": [
    "## Visualisation of predicted distributions"
   ]
  },
  {
   "cell_type": "code",
   "execution_count": null,
   "metadata": {},
   "outputs": [],
   "source": [
    "def plot_model(to_pred, expectations, model, n_comps=N_COMPS, up_bound=1_100, on_same_fig = False):\n",
    "    # predictions\n",
    "    layer_ww, layer_rr, layer_pp = model.forward(to_pred)\n",
    "    x = torch.arange(1, up_bound+1).repeat(1, n_comps,1).permute([2,0,1])\n",
    "    y_pred = neuralnetwork.mix_nbpdf(layer_rr, layer_pp, layer_ww, x)\n",
    "    y_pred = y_pred.detach().numpy()\n",
    "    y_exp = expectations.detach().numpy()\n",
    "    # plots\n",
    "    if on_same_fig:\n",
    "        plt.plot(np.arange(len(y_pred-1)), y_pred[:, 1:], color='blue', label='prediction')\n",
    "        plt.plot(np.arange(len(y_exp)), y_exp, color='red', label='expectation')\n",
    "        plt.plot(np.arange(len(y_pred)), poisson.pmf(np.arange(len(y_pred)), to_pred[0]*to_pred[1]), color='green', label='true')\n",
    "        plt.legend()\n",
    "        plt.show()\n",
    "    else:\n",
    "        fig, axs = plt.subplots(2)\n",
    "        axs[0].plot(np.arange(len(y_pred)), y_pred)\n",
    "        axs[0].set_title('Predictions')\n",
    "        axs[1].plot(np.arange(len(y_exp)), y_exp)\n",
    "        axs[1].set_title('Expectations', y=-0.4)\n",
    "        plt.show()"
   ]
  },
  {
   "cell_type": "code",
   "execution_count": null,
   "metadata": {},
   "outputs": [],
   "source": [
    "# play with the chosen index to check for different distributions\n",
    "index = 0"
   ]
  },
  {
   "cell_type": "code",
   "execution_count": null,
   "metadata": {},
   "outputs": [],
   "source": [
    "plot_model(X_test[index,:], y_test[index, 1:], model, up_bound = len(y_test[index, :]), on_same_fig=True)"
   ]
  },
  {
   "cell_type": "markdown",
   "metadata": {},
   "source": [
    "### Case of a Poisson distribution"
   ]
  },
  {
   "cell_type": "code",
   "execution_count": null,
   "metadata": {},
   "outputs": [],
   "source": [
    "from scipy.stats import poisson"
   ]
  },
  {
   "cell_type": "code",
   "execution_count": null,
   "metadata": {},
   "outputs": [],
   "source": [
    "def plot_Poisson_model(to_pred, model, n_comps=N_COMPS, up_bound=100, on_same_fig = False):\n",
    "    # predictions\n",
    "    layer_ww, layer_rr, layer_pp = model.forward(to_pred)\n",
    "    x = torch.arange(1, up_bound+1).repeat(1, n_comps,1).permute([2,0,1])\n",
    "    y_pred = neuralnetwork.mix_nbpdf(layer_rr, layer_pp, layer_ww, x)\n",
    "    y_pred = y_pred.detach().numpy()\n",
    "    y_exp = poisson.pmf(np.arange(up_bound), to_pred[0]*to_pred[1])\n",
    "    # plots\n",
    "    if on_same_fig:\n",
    "        plt.plot(np.arange(len(y_pred)), y_pred, color='blue', label='prediction')\n",
    "        plt.plot(np.arange(len(y_exp)), y_exp, color='red', label='expectation')\n",
    "        plt.legend()\n",
    "        plt.show()\n",
    "    else:\n",
    "        fig, axs = plt.subplots(2)\n",
    "        axs[0].plot(np.arange(len(y_pred)), y_pred)\n",
    "        axs[0].set_title('Predictions')\n",
    "        axs[1].plot(np.arange(len(y_exp)), y_exp)\n",
    "        axs[1].set_title('Expectations', y=-0.4)\n",
    "        plt.show()"
   ]
  },
  {
   "cell_type": "code",
   "execution_count": null,
   "metadata": {},
   "outputs": [],
   "source": [
    "index=10\n",
    "plot_Poisson_model(X_test[index,:], model, on_same_fig=True)"
   ]
  },
  {
   "cell_type": "code",
   "execution_count": null,
   "metadata": {},
   "outputs": [],
   "source": []
  },
  {
   "cell_type": "markdown",
   "metadata": {},
   "source": [
    "### Case of a Negative Binomial Distribution"
   ]
  },
  {
   "cell_type": "code",
   "execution_count": null,
   "metadata": {},
   "outputs": [],
   "source": [
    "from scipy.stats import nbinom"
   ]
  },
  {
   "cell_type": "code",
   "execution_count": null,
   "metadata": {},
   "outputs": [],
   "source": [
    "def plot_NB_model(to_pred, model, n_comps=N_COMPS, initial_state=10, up_bound=1_100, on_same_fig = False):\n",
    "    # predictions\n",
    "    layer_ww, layer_rr, layer_pp = model.forward(to_pred)\n",
    "    x = torch.arange(1, up_bound+1).repeat(1, n_comps,1).permute([2,0,1])\n",
    "    y_pred = neuralnetwork.mix_nbpdf(layer_rr, layer_pp, layer_ww, x)\n",
    "    y_pred = y_pred.detach().numpy()\n",
    "    y_exp = nbinom.pmf(np.arange(up_bound), initial_state, np.exp(-to_pred[0]*to_pred[1]))\n",
    "    # plots\n",
    "    if on_same_fig:\n",
    "        plt.plot(np.arange(len(y_pred)), y_pred, color='blue', label='prediction')\n",
    "        plt.plot(np.arange(len(y_exp)), y_exp, color='red', label='expectation')\n",
    "        plt.legend()\n",
    "        plt.show()\n",
    "    else:\n",
    "        fig, axs = plt.subplots(2)\n",
    "        axs[0].plot(np.arange(len(y_pred)), y_pred)\n",
    "        axs[0].set_title('Predictions')\n",
    "        axs[1].plot(np.arange(len(y_exp)), y_exp)\n",
    "        axs[1].set_title('Expectations', y=-0.4)\n",
    "        plt.show()"
   ]
  },
  {
   "cell_type": "markdown",
   "metadata": {},
   "source": [
    "## Compute gradients from predicted distributions"
   ]
  },
  {
   "cell_type": "code",
   "execution_count": null,
   "metadata": {},
   "outputs": [],
   "source": [
    "# choose the input\n",
    "input = X_test[0,:]\n",
    "len_output = len(y_test[0, 1:])"
   ]
  },
  {
   "cell_type": "code",
   "execution_count": null,
   "metadata": {},
   "outputs": [],
   "source": [
    "gradients = grads.grads(input, model, length_output=len_output)"
   ]
  },
  {
   "cell_type": "code",
   "execution_count": null,
   "metadata": {},
   "outputs": [],
   "source": [
    "# plot a gradient\n",
    "plt.plot(gradients)\n",
    "plt.show()"
   ]
  },
  {
   "cell_type": "markdown",
   "metadata": {},
   "source": [
    "### Case of a Poisson distribution"
   ]
  },
  {
   "cell_type": "code",
   "execution_count": null,
   "metadata": {},
   "outputs": [],
   "source": [
    "def grad_lambda(t, lambd, k):\n",
    "    prod = t*lambd\n",
    "    return poisson.pmf(k-1, prod)/k*t*(k-prod)"
   ]
  },
  {
   "cell_type": "code",
   "execution_count": null,
   "metadata": {},
   "outputs": [],
   "source": [
    "x = np.linspace(0, 100, 200)\n",
    "y = [grad_lambda(X_test[index, 0], X_test[index, 1], k=i) for i in x]\n",
    "plt.plot(grads.grads(X_test[index,:], model, length_output=100))\n",
    "plt.plot(x, y, color='green')\n",
    "plt.show()"
   ]
  },
  {
   "cell_type": "markdown",
   "metadata": {},
   "source": [
    "## Compute expected value of gradients from predicted distributions"
   ]
  },
  {
   "cell_type": "code",
   "execution_count": null,
   "metadata": {},
   "outputs": [],
   "source": [
    "exp_val = grads.expected_val(input, model, length_output = len_output)"
   ]
  },
  {
   "cell_type": "code",
   "execution_count": null,
   "metadata": {},
   "outputs": [],
   "source": []
  }
 ],
 "metadata": {
  "kernelspec": {
   "display_name": "Python 3.9.12 ('base')",
   "language": "python",
   "name": "python3"
  },
  "language_info": {
   "codemirror_mode": {
    "name": "ipython",
    "version": 3
   },
   "file_extension": ".py",
   "mimetype": "text/x-python",
   "name": "python",
   "nbconvert_exporter": "python",
   "pygments_lexer": "ipython3",
   "version": "3.9.12"
  },
  "orig_nbformat": 4,
  "vscode": {
   "interpreter": {
    "hash": "21b095fe6d7dc636ff1702fb18d30024f38569a7a6ca4de646c9be38afd3b324"
   }
  }
 },
 "nbformat": 4,
 "nbformat_minor": 2
}
